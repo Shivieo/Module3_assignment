{
 "cells": [
  {
   "cell_type": "code",
   "execution_count": 1,
   "metadata": {},
   "outputs": [],
   "source": [
    "#Question 1. Discuss string slicing and provide examples."
   ]
  },
  {
   "cell_type": "code",
   "execution_count": null,
   "metadata": {},
   "outputs": [],
   "source": [
    "'''Answer2 \n",
    "String slicing : It's a method of obtaining sub-string from a given string. From a particular string, we can obtain a required string with a technique of start, end and step.\n",
    "Below are some examples for slicing of string.\n",
    "'''"
   ]
  },
  {
   "cell_type": "code",
   "execution_count": 15,
   "metadata": {},
   "outputs": [
    {
     "name": "stdout",
     "output_type": "stream",
     "text": [
      "YOR\n",
      "VIBGY\n",
      "VBYR\n"
     ]
    }
   ],
   "source": [
    "string1 = \"VIBGYOR\"\n",
    "print(string1[4:]) # It'll print from 4th index to last\n",
    "print(string1[0:5]) #  here gives from 0th index to 4th index because end point is excluded\n",
    "print(string1[0:7:2]) # here gives the value with each 2nd step"
   ]
  },
  {
   "cell_type": "code",
   "execution_count": 16,
   "metadata": {},
   "outputs": [],
   "source": [
    "#Question2. Explain the key features of lists in python."
   ]
  },
  {
   "cell_type": "code",
   "execution_count": null,
   "metadata": {},
   "outputs": [],
   "source": [
    "'''Answer2.\n",
    "Lists - List in python is an ordered collection of items and each item inside list is heterogeneous in nature that it can contain different data types of elements. List is mutable that means we can modify the elements inside it also list can have similar values. In python, list is defined by [] square brackets.\n",
    "Most of the features are already explained in definition of list. So here we focus on practical code which shows the features of list.\n",
    "'''"
   ]
  },
  {
   "cell_type": "code",
   "execution_count": 19,
   "metadata": {},
   "outputs": [
    {
     "data": {
      "text/plain": [
       "['John', True, 34, 32.12, (8+1j), 'John', 'Carter']"
      ]
     },
     "execution_count": 19,
     "metadata": {},
     "output_type": "execute_result"
    }
   ],
   "source": [
    "ls = [\"John\", True, 34, 32.12, 8+1j,\"John\"]\n",
    "#here we can see that we have different data type's element inside list ls. Also, square brackets are used. Also we have duplicates inside ls. Now, we see modification with adding elements.\n",
    "ls.append(\"Carter\")\n",
    "ls"
   ]
  },
  {
   "cell_type": "code",
   "execution_count": 20,
   "metadata": {},
   "outputs": [],
   "source": [
    "#Question3. Describe how to access, modify and delete elements in a list with examples."
   ]
  },
  {
   "cell_type": "code",
   "execution_count": 21,
   "metadata": {},
   "outputs": [
    {
     "data": {
      "text/plain": [
       "'Kunal'"
      ]
     },
     "execution_count": 21,
     "metadata": {},
     "output_type": "execute_result"
    }
   ],
   "source": [
    "''' Answer3\n",
    "For this question, we create a list with lss identifier then do the things accordingly. We see list access first.\n",
    "'''\n",
    "lss = [\"Arnav\",\"Kunal\", 45, 78, True]\n",
    "lss[1] # here we can access element at 1st index"
   ]
  },
  {
   "cell_type": "code",
   "execution_count": 22,
   "metadata": {},
   "outputs": [
    {
     "data": {
      "text/plain": [
       "['Abhijeet', 'Kunal', 45, 78, True]"
      ]
     },
     "execution_count": 22,
     "metadata": {},
     "output_type": "execute_result"
    }
   ],
   "source": [
    "#now we see modification of a list\n",
    "lss[0] = \"Abhijeet\"\n",
    "lss # here we replaced 0th index element"
   ]
  },
  {
   "cell_type": "code",
   "execution_count": null,
   "metadata": {},
   "outputs": [],
   "source": [
    "#delete elements of a list\n",
    "lss.remove(True) #removes by element name\n",
    "lss.pop(0) #removes by index, pop() only pops element at last position.\n",
    "lss.clear() # clears all list at once\n"
   ]
  },
  {
   "cell_type": "code",
   "execution_count": 27,
   "metadata": {},
   "outputs": [],
   "source": [
    "#Question4. Compare and contrast tuples and list with examples"
   ]
  },
  {
   "cell_type": "code",
   "execution_count": 36,
   "metadata": {},
   "outputs": [
    {
     "name": "stdout",
     "output_type": "stream",
     "text": [
      "John\n",
      "4\n",
      "('John', 'John', 34, (8+9j), True, 300, 50, 30, 34, 39, 334, 45)\n",
      "334\n",
      "30\n"
     ]
    }
   ],
   "source": [
    "'''Answer4.\n",
    "Already in question 2nd and 3rd we discuss a lot about list. Now we define Tuples then contrast and compare both afterwards.\n",
    "Tuples - Tuples are an ordered collection of items which can't be modified as it is immutable in nature. It contains heterogeneous elements inside it that means different datatypes' elements are allowed. Also we can have duplicate elements inside it. It is defined by () normal brackets. \n",
    "Now, we compare and contrast tuples and list with examples\n",
    "1. Tuple and list can have different datatypes of elements. both are heterogeneous in nature.\n",
    "2. Tuple and list can have duplicate elements.\n",
    "3. Tuple and list having items that are ordered.\n",
    "4. Tuple is defined by () normal brackets while list is defined by [] square brackets.\n",
    "5. Tuple is immutable while list is mutable. So we can't modify the element inside tuple but we can modify in list.\n",
    "now, we are going to code tuple to see its attribute.'''\n",
    "tup = (\"John\", \"John\", 34, 8+9j, True)\n",
    "tup2 =(300,50,30,34,39,334, 45)\n",
    "print(tup[0])\n",
    "print(tup.index(True))\n",
    "print(tup+tup2)\n",
    "print(max(tup2))\n",
    "print(min(tup2))\n"
   ]
  },
  {
   "cell_type": "code",
   "execution_count": null,
   "metadata": {},
   "outputs": [],
   "source": [
    "#Question5. Describe the key features of sets and provide examples of their use."
   ]
  },
  {
   "cell_type": "code",
   "execution_count": 37,
   "metadata": {},
   "outputs": [
    {
     "name": "stdout",
     "output_type": "stream",
     "text": [
      "{False, True, (7+9j), 99, 'Johhny', 45, 78.8}\n"
     ]
    }
   ],
   "source": [
    "'''Answer5.\n",
    "Sets: A set is an unordered collection of unique elements that means we can't have duplicate items inside a set. The elements inside a set is heterogeneous in nature and It is immutable that we can modify elements inside a set. Set always defined by curly braces {}.\n",
    "Key features of sets are:\n",
    "1. Heterogeneous datatypes: A set can store different datatypes' elements.\n",
    "2. Immutable : The elements inside a set can't be modified.\n",
    "3. Holds Unique elements: We can't have similar items inside a set.\n",
    "Now we take set example through coding'''\n",
    "s = {\"Johhny\", True, False, 45, 78.8, 7+9j, 45, 45}\n",
    "s.add(99)\n",
    "print(s)\n",
    "#by the above example, we can say that we use set to efficiently remove duplicate items."
   ]
  },
  {
   "cell_type": "code",
   "execution_count": 39,
   "metadata": {},
   "outputs": [],
   "source": [
    "#Question6. Discuss the use cases of tuples and sets in python programming."
   ]
  },
  {
   "cell_type": "code",
   "execution_count": null,
   "metadata": {},
   "outputs": [],
   "source": [
    "'''Answer6. \n",
    "We already defined tuples and sets in proficient manner. Now, the use case of tuple:\n",
    "1. Tuples are used to store multiple items in a single variable.\n",
    "2. Tuples are used for heterogeneous data storage.\n",
    "3. Tuples are used to store the data which can't be modified further.\n",
    "4. Tuples are used to access its element at a particular index.\n",
    "Now, The use case of sets are:\n",
    "1. Sets are used for math operations such as intersection, difference, union, symmetric difference.\n",
    "2. Sets are used to store unique elements, duplicate elements are not allowed.\n",
    "Rest the use cases of sets are same as tuples despite tuples are immutable, ordered but sets are mutuable and unordered.\n",
    "'''"
   ]
  },
  {
   "cell_type": "code",
   "execution_count": 2,
   "metadata": {},
   "outputs": [],
   "source": [
    "#Question7. Describe how to add, modify and delete items in a dictionary with examples."
   ]
  },
  {
   "cell_type": "code",
   "execution_count": null,
   "metadata": {},
   "outputs": [],
   "source": [
    "'''Answer7.\n",
    "Dictionery- A Dictionary in python is a type of data structure which holds unique key value pair in {} curly braces. All types of data are allowed inside it. Once key is given can't be changed but values are mutuable. It's also unordered. Now, we add, modify and delete items inside dictionary in next cell.\n",
    "'''"
   ]
  },
  {
   "cell_type": "code",
   "execution_count": 10,
   "metadata": {},
   "outputs": [
    {
     "name": "stdout",
     "output_type": "stream",
     "text": [
      "{'Name': 'Pratap', 'Age': 15, 'Occupation': 'Student', 'Personality': 'disciplined'}\n",
      "{'Name': 'Pratap', 'Age': 17, 'Occupation': 'Student', 'Personality': 'disciplined'}\n",
      "{'Name': 'Pratap', 'Age': 17, 'Personality': 'disciplined'}\n"
     ]
    },
    {
     "ename": "NameError",
     "evalue": "name 'my_dict' is not defined",
     "output_type": "error",
     "traceback": [
      "\u001b[1;31m---------------------------------------------------------------------------\u001b[0m",
      "\u001b[1;31mNameError\u001b[0m                                 Traceback (most recent call last)",
      "Cell \u001b[1;32mIn[10], line 12\u001b[0m\n\u001b[0;32m     10\u001b[0m \u001b[38;5;28mprint\u001b[39m(my_dict)\n\u001b[0;32m     11\u001b[0m \u001b[38;5;28;01mdel\u001b[39;00m my_dict \u001b[38;5;66;03m# delete all elemets inside it\u001b[39;00m\n\u001b[1;32m---> 12\u001b[0m \u001b[38;5;28mprint\u001b[39m(\u001b[43mmy_dict\u001b[49m)\n",
      "\u001b[1;31mNameError\u001b[0m: name 'my_dict' is not defined"
     ]
    }
   ],
   "source": [
    "my_dict = {\"Name\": \"Pratap\", \"Age\": 15, \"Occupation\": \"Student\"}\n",
    "#adding element\n",
    "my_dict[\"Personality\"]= \"disciplined\"\n",
    "print(my_dict)\n",
    "# modify - we can only modify the values not keys\n",
    "my_dict[\"Age\"] = 17\n",
    "print(my_dict)\n",
    "#delete items\n",
    "del my_dict[\"Occupation\"] #an item will be deleted\n",
    "print(my_dict)\n",
    "del my_dict # delete my_dict \n",
    "print(my_dict)"
   ]
  },
  {
   "cell_type": "code",
   "execution_count": null,
   "metadata": {},
   "outputs": [],
   "source": [
    "#Question8. Discuss the importance of dictionary keys being immutable and provide examples."
   ]
  },
  {
   "cell_type": "code",
   "execution_count": 19,
   "metadata": {},
   "outputs": [
    {
     "ename": "TypeError",
     "evalue": "unhashable type: 'list'",
     "output_type": "error",
     "traceback": [
      "\u001b[1;31m---------------------------------------------------------------------------\u001b[0m",
      "\u001b[1;31mTypeError\u001b[0m                                 Traceback (most recent call last)",
      "Cell \u001b[1;32mIn[19], line 4\u001b[0m\n\u001b[0;32m      1\u001b[0m \u001b[38;5;124;03m'''Answer8. \u001b[39;00m\n\u001b[0;32m      2\u001b[0m \u001b[38;5;124;03mThe hash table implementation of dictionary uses a hash value calculated from the key value to find the key. If the key were a mutable object, its value could change, and thus its hash could also change. But since whoever changes the key object  can't tell that it was being used as a dictionary key, it can't move the entry around in the dictionary. Then, when you try to look up the same object in the dictionary it won't be found because its hash value is different. If you tried to lookup the old value it wouldn't be found either because the value of the object found in that hash bin would be different. Now, with example we prove that key wouldn't be mutable.\u001b[39;00m\n\u001b[0;32m      3\u001b[0m \u001b[38;5;124;03m'''\u001b[39;00m\n\u001b[1;32m----> 4\u001b[0m dict_1 \u001b[38;5;241m=\u001b[39m {[\u001b[38;5;124m\"\u001b[39m\u001b[38;5;124mRon whishely\u001b[39m\u001b[38;5;124m\"\u001b[39m, \u001b[38;5;124m\"\u001b[39m\u001b[38;5;124mThe character in Harry Potter\u001b[39m\u001b[38;5;124m\"\u001b[39m]: \u001b[38;5;28;01mTrue\u001b[39;00m}\n\u001b[0;32m      5\u001b[0m dict_1\n",
      "\u001b[1;31mTypeError\u001b[0m: unhashable type: 'list'"
     ]
    }
   ],
   "source": [
    "'''Answer8. \n",
    "The hash table implementation of dictionary uses a hash value calculated from the key value to find the key. If the key were a mutable object, its value could change, and thus its hash could also change. But since whoever changes the key object  can't tell that it was being used as a dictionary key, it can't move the entry around in the dictionary. Then, when you try to look up the same object in the dictionary it won't be found because its hash value is different. If you tried to lookup the old value it wouldn't be found either because the value of the object found in that hash bin would be different. Now, with example we prove that key wouldn't be mutable.\n",
    "'''\n",
    "dict_1 = {[\"Ron whishely\", \"The character in Harry Potter\"]: True}\n",
    "dict_1"
   ]
  }
 ],
 "metadata": {
  "kernelspec": {
   "display_name": "Python 3",
   "language": "python",
   "name": "python3"
  },
  "language_info": {
   "codemirror_mode": {
    "name": "ipython",
    "version": 3
   },
   "file_extension": ".py",
   "mimetype": "text/x-python",
   "name": "python",
   "nbconvert_exporter": "python",
   "pygments_lexer": "ipython3",
   "version": "3.12.5"
  }
 },
 "nbformat": 4,
 "nbformat_minor": 2
}
